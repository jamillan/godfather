{
 "cells": [
  {
   "cell_type": "code",
   "execution_count": 95,
   "metadata": {},
   "outputs": [],
   "source": [
    "import tweepy\n",
    "import random\n",
    "#from our keys module (keys.py), import the keys dictionary\n",
    "\n",
    "CONSUMER_KEY = \"HGsCa24B9jlGFiDpRaBemTyjj\"\n",
    "CONSUMER_SECRET = \"BA87yf8QyolGnTUmHEc07A1ZfnKbmHa6GfMRj3tBEJ8lWMFGPH\"\n",
    "ACCESS_TOKEN = \"1006801061754097664-I7ziYNHGJ3ydUPgtEP0wYEvTBYuWJz\"\n",
    "ACCESS_TOKEN_SECRET = \"Xz3kwLMXd7UYDpkyjNMfXn5ATnW3njLNVuybST3ci5v3k\"\n",
    "\n",
    "#CONSUMER_KEY = \"tNq5rXzQtpCfQN5SqhvYDjx84\"\n",
    "#CONSUMER_SECRET = \"3KTXCM4jVgizY1MCPHCm02oxV21OBMdX2jGAfY7mZ27aSbwveF\"\n",
    "#ACCESS_TOKEN = \"1003684959419322371-2yvCMWHGhs7S32TIgEY9wV9SziKg11\"\n",
    "#ACCESS_TOKEN_SECRET = \"MyIrkq24K7R7WehRLeRkpVCePbmQB7L56He65gfeaLgAw\"\n",
    "\n",
    "\n",
    "auth = tweepy.OAuthHandler(CONSUMER_KEY, CONSUMER_SECRET)\n",
    "auth.set_access_token(ACCESS_TOKEN, ACCESS_TOKEN_SECRET)\n",
    "api = tweepy.API(auth,wait_on_rate_limit=True,wait_on_rate_limit_notify=True)"
   ]
  },
  {
   "cell_type": "code",
   "execution_count": 13,
   "metadata": {},
   "outputs": [],
   "source": [
    "import itunes\n",
    "import unirest\n",
    "import tweet_dumper\n",
    "import time"
   ]
  },
  {
   "cell_type": "code",
   "execution_count": 14,
   "metadata": {},
   "outputs": [],
   "source": [
    "from sklearn.decomposition import NMF\n",
    "from sklearn.preprocessing import Normalizer, MaxAbsScaler\n",
    "from sklearn.pipeline import make_pipeline\n",
    "import pandas as pd\n",
    "import numpy as np\n",
    "from matplotlib import pyplot as plt\n",
    "from sklearn.feature_extraction.text import CountVectorizer\n",
    "from sklearn.model_selection import train_test_split"
   ]
  },
  {
   "cell_type": "code",
   "execution_count": 15,
   "metadata": {},
   "outputs": [],
   "source": [
    "df= pd.read_csv(\"m.csv\")"
   ]
  },
  {
   "cell_type": "markdown",
   "metadata": {},
   "source": [
    "## Create Non-negative Matrix reccomender\n",
    "\n",
    "### This method decomposes the corpora into linearly independent topic"
   ]
  },
  {
   "cell_type": "code",
   "execution_count": 61,
   "metadata": {},
   "outputs": [
    {
     "name": "stdout",
     "output_type": "stream",
     "text": [
      "(6747, 2)\n",
      "####Success Creating the NMF with n_components = 2\n"
     ]
    }
   ],
   "source": [
    "pod_descriptions = df.iloc[:,11]\n",
    "pod_descriptions= pod_descriptions.dropna()\n",
    "count_vectorizer = CountVectorizer(stop_words='english')\n",
    "count_train = count_vectorizer.fit_transform(pod_descriptions)\n",
    "# Create an NMF instance: model\n",
    "n_components = 2\n",
    "model = NMF(n_components=n_components)\n",
    "\n",
    "# Fit the model to articles\n",
    "model.fit(count_train)\n",
    "\n",
    "# Transform the articles: nmf_features\n",
    "nmf_features =model.transform(count_train)\n",
    "\n",
    "# Print the NMF features\n",
    "print(nmf_features.shape)\n",
    "\n",
    "print(\"####Success Creating the NMF with n_components = \" + str(n_components))"
   ]
  },
  {
   "cell_type": "markdown",
   "metadata": {},
   "source": [
    "## Get A wild card  podcast for new users in Twitter\n",
    "\n",
    "### This kernel should be amplified to most popular"
   ]
  },
  {
   "cell_type": "code",
   "execution_count": 74,
   "metadata": {},
   "outputs": [],
   "source": [
    "podcast = itunes.lookup(160904630)\n",
    "podcast_url = podcast.get_url()"
   ]
  },
  {
   "cell_type": "code",
   "execution_count": 75,
   "metadata": {},
   "outputs": [
    {
     "name": "stdout",
     "output_type": "stream",
     "text": [
      "https://itunes.apple.com/us/podcast/ted-talks-daily/id160904630?mt=2&uo=4\n"
     ]
    }
   ],
   "source": [
    "print(podcast_url)"
   ]
  },
  {
   "cell_type": "markdown",
   "metadata": {},
   "source": [
    "## Helper Function to get Twitter History of User\n",
    "\n",
    "### Todo : maybe limit total number of tweets?"
   ]
  },
  {
   "cell_type": "code",
   "execution_count": 48,
   "metadata": {},
   "outputs": [],
   "source": [
    "screen_name = 'BarackObama'\n",
    "new_tweets = api.user_timeline(screen_name = screen_name,count=200)\n",
    "user = api.get_user(screen_name)\n",
    "\n",
    "friends = user.friends()\n",
    "#print(user.screen_name)\n",
    "all_friends = []\n",
    "for friend in friends:\n",
    "    all_friends.append(friend.screen_name)"
   ]
  },
  {
   "cell_type": "code",
   "execution_count": 108,
   "metadata": {},
   "outputs": [],
   "source": [
    "def get_user_tweets(screen_name):\n",
    "    new_tweets = api.user_timeline(screen_name = screen_name,count=200)\n",
    "    try:\n",
    "        user = api.get_user(screen_name)\n",
    "    except tweepy.error.TweepError as e:\n",
    "        time.sleep(180)\n",
    "        user = api.get_user(screen_name)\n",
    "    try:\n",
    "        friends = user.friends()\n",
    "        print(user.followers_count)\n",
    "    except tweepy.error.TweepError as e:\n",
    "        time.sleep(180)\n",
    "        friends = user.friends()\n",
    "    #print(user.screen_name)\n",
    "    all_friends = []\n",
    "    for friend in friends:\n",
    "        all_friends.append(friend.screen_name)\n",
    "    \n",
    "    alltweets = []\n",
    "    if len(new_tweets) < 1:\n",
    "        \n",
    "        return []\n",
    "    #save most recent tweets\n",
    "    alltweets.extend(new_tweets)\n",
    "\n",
    "    #save the id of the oldest tweet less one\n",
    "\n",
    "    if len(new_tweets) > 0:\n",
    "        \n",
    "        oldest = alltweets[-1].id - 1\n",
    "\n",
    "    #keep grabbing tweets until there are no tweets left to grab\n",
    "    while len(new_tweets) > 0:\n",
    "        #print \"getting tweets before %s\" % (oldest)\n",
    "\n",
    "    #all subsiquent requests use the max_id param to prevent duplicates\n",
    "        try:\n",
    "            new_tweets = api.user_timeline(screen_name = screen_name,count=200,max_id=oldest)\n",
    "                \n",
    "        except tweepy.error.TweepError as e:\n",
    "            time.sleep(180)\n",
    "            new_tweets = api.user_timeline(screen_name = screen_name,count=200,max_id=oldest)\n",
    "            \n",
    "            \n",
    "    #save most recent tweets\n",
    "        alltweets.extend(new_tweets)\n",
    "\n",
    "        #update the id of the oldest tweet less one\n",
    "        oldest = alltweets[-1].id - 1\n",
    "        \n",
    "        #print(oldest)\n",
    "\n",
    "        #print \"...%s tweets downloaded so far\" % (len(alltweets))\n",
    "\n",
    "        #transform the tweepy tweets into a 2D array that will populate the csv \n",
    "    outtweets = [[tweet.id_str, tweet.created_at, tweet.text.encode(\"utf-8\")] for tweet in alltweets]\n",
    "    return all_friends,outtweets"
   ]
  },
  {
   "cell_type": "code",
   "execution_count": 109,
   "metadata": {},
   "outputs": [
    {
     "name": "stdout",
     "output_type": "stream",
     "text": [
      "103235794\n"
     ]
    }
   ],
   "source": [
    "h_tags,my_tweets = get_user_tweets('BarackObama')"
   ]
  },
  {
   "cell_type": "code",
   "execution_count": 98,
   "metadata": {},
   "outputs": [
    {
     "name": "stdout",
     "output_type": "stream",
     "text": [
      "[u'Noahsyndergaard', u'spurs', u'kobebryant', u'TheAdamsEra', u'StephenAtHome']\n"
     ]
    }
   ],
   "source": [
    "#for i in range(1):\n",
    " #   if i%5 ==0:\n",
    "  #      print i \n",
    "a,b = get_user_tweets(\"jandresmillan\")\n",
    "\n",
    "print(a)"
   ]
  },
  {
   "cell_type": "code",
   "execution_count": 111,
   "metadata": {},
   "outputs": [
    {
     "name": "stdout",
     "output_type": "stream",
     "text": [
      "@StephenAtHome\n",
      "18505110\n",
      "(u'@StephenAtHome', u'Stephen+At+Home')\n"
     ]
    }
   ],
   "source": [
    "def get_from_hashtag(all_hashtags):\n",
    "    all_bi_tokens = []\n",
    "    for h_tag in all_hashtags:\n",
    "        \n",
    "        trial_bitoken = split_hashtag(h_tag)\n",
    "       # print(trial_bitoken)\n",
    "        if len(trial_bitoken) > 1:\n",
    "            all_bi_tokens.append(trial_bitoken)\n",
    "    \n",
    "    hash_signal = random.choice(all_bi_tokens)\n",
    "    final_hash_signal = hash_signal[0]\n",
    "    h_tag_user = \"@\" + hash_signal[0]\n",
    "    \n",
    "    \n",
    "    \n",
    "    Celebrity = True;\n",
    "    while Celebrity:\n",
    "        for i in range(1,len(hash_signal)):\n",
    "            final_hash_signal = final_hash_signal + \"+\" + hash_signal[i]\n",
    "            h_tag_user = h_tag_user + hash_signal[i]\n",
    "        print(h_tag_user)\n",
    "        try:\n",
    "            user = api.get_user(h_tag_user)\n",
    "        \n",
    "        except tweepy.error.TweepError as e:\n",
    "            time.sleep(180)\n",
    "            user = api.get_user(h_tag_user)\n",
    "        try:\n",
    "            \n",
    "            nbr_friends = user.followers_count\n",
    "            print(nbr_friends)\n",
    "            \n",
    "        except tweepy.error.TweepError as e:\n",
    "            time.sleep(180)\n",
    "            nbr_friends = user.followers_count\n",
    "            \n",
    "        if nbr_friends > 1000000:\n",
    "            Celebrity = False;\n",
    "            \n",
    "        else:\n",
    "            hash_signal = random.choice(all_bi_tokens)\n",
    "            final_hash_signal = hash_signal[0]\n",
    "            h_tag_user = \"@\" + hash_signal[0]\n",
    "        \n",
    "        \n",
    "    return h_tag_user,final_hash_signal\n",
    "a1,a2 = get_from_hashtag(a)\n",
    "print(a1,a2)"
   ]
  },
  {
   "cell_type": "code",
   "execution_count": 72,
   "metadata": {},
   "outputs": [],
   "source": [
    "obamatweets = pd.read_csv('BarackObama_tweets.csv')"
   ]
  },
  {
   "cell_type": "code",
   "execution_count": 73,
   "metadata": {},
   "outputs": [
    {
     "data": {
      "text/plain": [
       "0       RT @MichelleObama: Sometimes truth transcends ...\n",
       "1       Congratulations to the @Capitals! This @NHLBla...\n",
       "2       “Low plastic stool, cheap but delicious noodle...\n",
       "3       This National Gun Violence Awareness Day, show...\n",
       "4       We can never truly repay the debt we owe our f...\n",
       "5       This Center is for the leaders of tomorrow who...\n",
       "6       Happy Mother’s Day to every mom out there, esp...\n",
       "7       There are few issues more important to the sec...\n",
       "8       RT @MichelleObama: Happy #CollegeSigningDay! S...\n",
       "9       These talented young people will create a bett...\n",
       "10      Our statement on the passing of Former First L...\n",
       "11      RT @ObamaFoundation: We just announced the ina...\n",
       "12      RT @ObamaFoundation: This week—50 years since ...\n",
       "13      Incredible to have a Chicago team in the Final...\n",
       "14      Michelle and I are so inspired by all the youn...\n",
       "15      Our most important task as a nation is to make...\n",
       "16      In Singapore with young people who are advocat...\n",
       "17      41: I like the competition. And the loyalty to...\n",
       "18      Congrats to @LoyolaChicago and Sister Jean for...\n",
       "19      Just because I have more time to watch games d...\n",
       "20      Have fun out there among the stars. https://t....\n",
       "21      Four years ago, @MichelleObama and I had the p...\n",
       "22      I got my start holding community meetings in C...\n",
       "23      Young people have helped lead all our great mo...\n",
       "24      Billy Graham was a humble servant who prayed f...\n",
       "25      We are grieving with Parkland. But we are not ...\n",
       "26      Happy Valentine’s Day, @MichelleObama. You mak...\n",
       "27      RT @MichelleObama: Happy #ValentinesDay to my ...\n",
       "28      Dr. King was 26 when the Montgomery bus boycot...\n",
       "29      All across America people chose to get involve...\n",
       "                              ...                        \n",
       "3179    It's been more than five years since the natio...\n",
       "3180    Watch: Congress is back this week. Time to dem...\n",
       "3181    On Women's Equality Day, @OFA volunteers discu...\n",
       "3182    Watch: A special pep talk for @SpeakerBoehner....\n",
       "3183    \"All the middle class in this country wants is...\n",
       "3184    Congress heads back to Washington this week—no...\n",
       "3185    Watch @VP Joe Biden deliver the weekly address...\n",
       "3186    There's more to do, but this is real progress:...\n",
       "3187    RT @WhiteHouse: Then and now: Auto workers are...\n",
       "3188    Say no to cynicism: http://t.co/nxtLYeVMDh htt...\n",
       "3189    In 54 straight months of job growth, the econo...\n",
       "3190    For just $123 a month, Phil and his family of ...\n",
       "3191    RT @OFA_WI: Breaking—Another great step forwar...\n",
       "3192    You should reject cynicism: http://t.co/SUxdU4...\n",
       "3193    \"I think it's wonderful.\" Tanyce is a cancer s...\n",
       "3194    Because some are standing in the way, this has...\n",
       "3195    Add your name: http://t.co/F8LECMasbh Refuse t...\n",
       "3196    RT @vj44: Good news: New economic trends show ...\n",
       "3197    FACT: Total U.S. exports sustained 11.3 millio...\n",
       "3198    The other side hopes people like you will get ...\n",
       "3199    Congress is heading back to Washington next we...\n",
       "3200    Retweet if you think Congress should help rein...\n",
       "3201    Organizers got together for an important conve...\n",
       "3202    LIVE: President Obama is in Milwaukee speaking...\n",
       "3203    To every American working hard each and every ...\n",
       "3204    President Obama: It's time to raise the minimu...\n",
       "3205    \"In America, no one who works full-time should...\n",
       "3206    Let's keep building economic #OpportunityForAl...\n",
       "3207    This is what the gender pay gap looks like for...\n",
       "3208    Great news: Economic growth in the second quar...\n",
       "Name: text, Length: 3209, dtype: object"
      ]
     },
     "execution_count": 73,
     "metadata": {},
     "output_type": "execute_result"
    }
   ],
   "source": [
    "obamatweets.text"
   ]
  },
  {
   "cell_type": "code",
   "execution_count": 38,
   "metadata": {},
   "outputs": [],
   "source": [
    "import tweethon"
   ]
  },
  {
   "cell_type": "code",
   "execution_count": 39,
   "metadata": {},
   "outputs": [],
   "source": [
    "api = tweethon.Api() \n"
   ]
  },
  {
   "cell_type": "code",
   "execution_count": 42,
   "metadata": {},
   "outputs": [],
   "source": []
  },
  {
   "cell_type": "code",
   "execution_count": 43,
   "metadata": {},
   "outputs": [
    {
     "ename": "HTTPError",
     "evalue": "HTTP Error 404: Not Found",
     "output_type": "error",
     "traceback": [
      "\u001b[0;31m---------------------------------------------------------------------------\u001b[0m",
      "\u001b[0;31mHTTPError\u001b[0m                                 Traceback (most recent call last)",
      "\u001b[0;32m<ipython-input-43-7449b3b9b5e8>\u001b[0m in \u001b[0;36m<module>\u001b[0;34m()\u001b[0m\n\u001b[0;32m----> 1\u001b[0;31m \u001b[0mstatuses\u001b[0m \u001b[0;34m=\u001b[0m\u001b[0mapi\u001b[0m\u001b[0;34m.\u001b[0m\u001b[0mGetPublicTimeline\u001b[0m\u001b[0;34m(\u001b[0m\u001b[0;34m)\u001b[0m\u001b[0;34m\u001b[0m\u001b[0m\n\u001b[0m",
      "\u001b[0;32m/Users/jaimemillan/Desktop/insight/all-podcasts-dataset/CSV_FILES/tweethon.py\u001b[0m in \u001b[0;36mGetPublicTimeline\u001b[0;34m(self, since_id)\u001b[0m\n\u001b[1;32m   1465\u001b[0m             \u001b[0mparameters\u001b[0m\u001b[0;34m[\u001b[0m\u001b[0;34m'since_id'\u001b[0m\u001b[0;34m]\u001b[0m \u001b[0;34m=\u001b[0m \u001b[0msince_id\u001b[0m\u001b[0;34m\u001b[0m\u001b[0m\n\u001b[1;32m   1466\u001b[0m         \u001b[0murl\u001b[0m \u001b[0;34m=\u001b[0m \u001b[0mself\u001b[0m\u001b[0;34m.\u001b[0m\u001b[0m_base_url\u001b[0m \u001b[0;34m+\u001b[0m \u001b[0;34m'/statuses/public_timeline.json'\u001b[0m\u001b[0;34m\u001b[0m\u001b[0m\n\u001b[0;32m-> 1467\u001b[0;31m         \u001b[0;32mreturn\u001b[0m \u001b[0mself\u001b[0m\u001b[0;34m.\u001b[0m\u001b[0m_FetchUrlAndParse\u001b[0m\u001b[0;34m(\u001b[0m\u001b[0murl\u001b[0m\u001b[0;34m,\u001b[0m \u001b[0mStatus\u001b[0m\u001b[0;34m.\u001b[0m\u001b[0mNewFromJsonDict\u001b[0m\u001b[0;34m,\u001b[0m \u001b[0mmany\u001b[0m\u001b[0;34m=\u001b[0m\u001b[0mTrue\u001b[0m\u001b[0;34m,\u001b[0m \u001b[0mparameters\u001b[0m\u001b[0;34m=\u001b[0m\u001b[0mparameters\u001b[0m\u001b[0;34m)\u001b[0m\u001b[0;34m\u001b[0m\u001b[0m\n\u001b[0m\u001b[1;32m   1468\u001b[0m \u001b[0;34m\u001b[0m\u001b[0m\n\u001b[1;32m   1469\u001b[0m     \u001b[0;32mdef\u001b[0m \u001b[0mFilterPublicTimeline\u001b[0m\u001b[0;34m(\u001b[0m\u001b[0mself\u001b[0m\u001b[0;34m,\u001b[0m \u001b[0mterm\u001b[0m\u001b[0;34m,\u001b[0m \u001b[0msince_id\u001b[0m\u001b[0;34m=\u001b[0m\u001b[0mNone\u001b[0m\u001b[0;34m)\u001b[0m\u001b[0;34m:\u001b[0m\u001b[0;34m\u001b[0m\u001b[0m\n",
      "\u001b[0;32m/Users/jaimemillan/Desktop/insight/all-podcasts-dataset/CSV_FILES/tweethon.py\u001b[0m in \u001b[0;36m_FetchUrlAndParse\u001b[0;34m(self, url, factory, many, post_data, parameters, no_cache, use_gzip_compression)\u001b[0m\n\u001b[1;32m   2408\u001b[0m             \u001b[0;31m# If the cached version is outdated then fetch another and store it\u001b[0m\u001b[0;34m\u001b[0m\u001b[0;34m\u001b[0m\u001b[0m\n\u001b[1;32m   2409\u001b[0m             \u001b[0;32mif\u001b[0m \u001b[0;32mnot\u001b[0m \u001b[0mlast_cached\u001b[0m \u001b[0;32mor\u001b[0m \u001b[0mtime\u001b[0m\u001b[0;34m.\u001b[0m\u001b[0mtime\u001b[0m\u001b[0;34m(\u001b[0m\u001b[0;34m)\u001b[0m \u001b[0;34m>=\u001b[0m \u001b[0mlast_cached\u001b[0m \u001b[0;34m+\u001b[0m \u001b[0mself\u001b[0m\u001b[0;34m.\u001b[0m\u001b[0m_cache_timeout\u001b[0m\u001b[0;34m:\u001b[0m\u001b[0;34m\u001b[0m\u001b[0m\n\u001b[0;32m-> 2410\u001b[0;31m                 \u001b[0mresponse\u001b[0m \u001b[0;34m=\u001b[0m \u001b[0mopener\u001b[0m\u001b[0;34m.\u001b[0m\u001b[0mopen\u001b[0m\u001b[0;34m(\u001b[0m\u001b[0murl\u001b[0m\u001b[0;34m,\u001b[0m \u001b[0mencoded_post_data\u001b[0m\u001b[0;34m)\u001b[0m\u001b[0;34m\u001b[0m\u001b[0m\n\u001b[0m\u001b[1;32m   2411\u001b[0m                 \u001b[0murl_data\u001b[0m \u001b[0;34m=\u001b[0m \u001b[0mself\u001b[0m\u001b[0;34m.\u001b[0m\u001b[0m_DecompressGzippedResponse\u001b[0m\u001b[0;34m(\u001b[0m\u001b[0mresponse\u001b[0m\u001b[0;34m)\u001b[0m\u001b[0;34m\u001b[0m\u001b[0m\n\u001b[1;32m   2412\u001b[0m                 \u001b[0mopener\u001b[0m\u001b[0;34m.\u001b[0m\u001b[0mclose\u001b[0m\u001b[0;34m(\u001b[0m\u001b[0;34m)\u001b[0m\u001b[0;34m\u001b[0m\u001b[0m\n",
      "\u001b[0;32m/Users/jaimemillan/miniconda2/lib/python2.7/urllib2.pyc\u001b[0m in \u001b[0;36mopen\u001b[0;34m(self, fullurl, data, timeout)\u001b[0m\n\u001b[1;32m    433\u001b[0m         \u001b[0;32mfor\u001b[0m \u001b[0mprocessor\u001b[0m \u001b[0;32min\u001b[0m \u001b[0mself\u001b[0m\u001b[0;34m.\u001b[0m\u001b[0mprocess_response\u001b[0m\u001b[0;34m.\u001b[0m\u001b[0mget\u001b[0m\u001b[0;34m(\u001b[0m\u001b[0mprotocol\u001b[0m\u001b[0;34m,\u001b[0m \u001b[0;34m[\u001b[0m\u001b[0;34m]\u001b[0m\u001b[0;34m)\u001b[0m\u001b[0;34m:\u001b[0m\u001b[0;34m\u001b[0m\u001b[0m\n\u001b[1;32m    434\u001b[0m             \u001b[0mmeth\u001b[0m \u001b[0;34m=\u001b[0m \u001b[0mgetattr\u001b[0m\u001b[0;34m(\u001b[0m\u001b[0mprocessor\u001b[0m\u001b[0;34m,\u001b[0m \u001b[0mmeth_name\u001b[0m\u001b[0;34m)\u001b[0m\u001b[0;34m\u001b[0m\u001b[0m\n\u001b[0;32m--> 435\u001b[0;31m             \u001b[0mresponse\u001b[0m \u001b[0;34m=\u001b[0m \u001b[0mmeth\u001b[0m\u001b[0;34m(\u001b[0m\u001b[0mreq\u001b[0m\u001b[0;34m,\u001b[0m \u001b[0mresponse\u001b[0m\u001b[0;34m)\u001b[0m\u001b[0;34m\u001b[0m\u001b[0m\n\u001b[0m\u001b[1;32m    436\u001b[0m \u001b[0;34m\u001b[0m\u001b[0m\n\u001b[1;32m    437\u001b[0m         \u001b[0;32mreturn\u001b[0m \u001b[0mresponse\u001b[0m\u001b[0;34m\u001b[0m\u001b[0m\n",
      "\u001b[0;32m/Users/jaimemillan/miniconda2/lib/python2.7/urllib2.pyc\u001b[0m in \u001b[0;36mhttp_response\u001b[0;34m(self, request, response)\u001b[0m\n\u001b[1;32m    546\u001b[0m         \u001b[0;32mif\u001b[0m \u001b[0;32mnot\u001b[0m \u001b[0;34m(\u001b[0m\u001b[0;36m200\u001b[0m \u001b[0;34m<=\u001b[0m \u001b[0mcode\u001b[0m \u001b[0;34m<\u001b[0m \u001b[0;36m300\u001b[0m\u001b[0;34m)\u001b[0m\u001b[0;34m:\u001b[0m\u001b[0;34m\u001b[0m\u001b[0m\n\u001b[1;32m    547\u001b[0m             response = self.parent.error(\n\u001b[0;32m--> 548\u001b[0;31m                 'http', request, response, code, msg, hdrs)\n\u001b[0m\u001b[1;32m    549\u001b[0m \u001b[0;34m\u001b[0m\u001b[0m\n\u001b[1;32m    550\u001b[0m         \u001b[0;32mreturn\u001b[0m \u001b[0mresponse\u001b[0m\u001b[0;34m\u001b[0m\u001b[0m\n",
      "\u001b[0;32m/Users/jaimemillan/miniconda2/lib/python2.7/urllib2.pyc\u001b[0m in \u001b[0;36merror\u001b[0;34m(self, proto, *args)\u001b[0m\n\u001b[1;32m    465\u001b[0m             \u001b[0mhttp_err\u001b[0m \u001b[0;34m=\u001b[0m \u001b[0;36m0\u001b[0m\u001b[0;34m\u001b[0m\u001b[0m\n\u001b[1;32m    466\u001b[0m         \u001b[0margs\u001b[0m \u001b[0;34m=\u001b[0m \u001b[0;34m(\u001b[0m\u001b[0mdict\u001b[0m\u001b[0;34m,\u001b[0m \u001b[0mproto\u001b[0m\u001b[0;34m,\u001b[0m \u001b[0mmeth_name\u001b[0m\u001b[0;34m)\u001b[0m \u001b[0;34m+\u001b[0m \u001b[0margs\u001b[0m\u001b[0;34m\u001b[0m\u001b[0m\n\u001b[0;32m--> 467\u001b[0;31m         \u001b[0mresult\u001b[0m \u001b[0;34m=\u001b[0m \u001b[0mself\u001b[0m\u001b[0;34m.\u001b[0m\u001b[0m_call_chain\u001b[0m\u001b[0;34m(\u001b[0m\u001b[0;34m*\u001b[0m\u001b[0margs\u001b[0m\u001b[0;34m)\u001b[0m\u001b[0;34m\u001b[0m\u001b[0m\n\u001b[0m\u001b[1;32m    468\u001b[0m         \u001b[0;32mif\u001b[0m \u001b[0mresult\u001b[0m\u001b[0;34m:\u001b[0m\u001b[0;34m\u001b[0m\u001b[0m\n\u001b[1;32m    469\u001b[0m             \u001b[0;32mreturn\u001b[0m \u001b[0mresult\u001b[0m\u001b[0;34m\u001b[0m\u001b[0m\n",
      "\u001b[0;32m/Users/jaimemillan/miniconda2/lib/python2.7/urllib2.pyc\u001b[0m in \u001b[0;36m_call_chain\u001b[0;34m(self, chain, kind, meth_name, *args)\u001b[0m\n\u001b[1;32m    405\u001b[0m             \u001b[0mfunc\u001b[0m \u001b[0;34m=\u001b[0m \u001b[0mgetattr\u001b[0m\u001b[0;34m(\u001b[0m\u001b[0mhandler\u001b[0m\u001b[0;34m,\u001b[0m \u001b[0mmeth_name\u001b[0m\u001b[0;34m)\u001b[0m\u001b[0;34m\u001b[0m\u001b[0m\n\u001b[1;32m    406\u001b[0m \u001b[0;34m\u001b[0m\u001b[0m\n\u001b[0;32m--> 407\u001b[0;31m             \u001b[0mresult\u001b[0m \u001b[0;34m=\u001b[0m \u001b[0mfunc\u001b[0m\u001b[0;34m(\u001b[0m\u001b[0;34m*\u001b[0m\u001b[0margs\u001b[0m\u001b[0;34m)\u001b[0m\u001b[0;34m\u001b[0m\u001b[0m\n\u001b[0m\u001b[1;32m    408\u001b[0m             \u001b[0;32mif\u001b[0m \u001b[0mresult\u001b[0m \u001b[0;32mis\u001b[0m \u001b[0;32mnot\u001b[0m \u001b[0mNone\u001b[0m\u001b[0;34m:\u001b[0m\u001b[0;34m\u001b[0m\u001b[0m\n\u001b[1;32m    409\u001b[0m                 \u001b[0;32mreturn\u001b[0m \u001b[0mresult\u001b[0m\u001b[0;34m\u001b[0m\u001b[0m\n",
      "\u001b[0;32m/Users/jaimemillan/miniconda2/lib/python2.7/urllib2.pyc\u001b[0m in \u001b[0;36mhttp_error_302\u001b[0;34m(self, req, fp, code, msg, headers)\u001b[0m\n\u001b[1;32m    652\u001b[0m         \u001b[0mfp\u001b[0m\u001b[0;34m.\u001b[0m\u001b[0mclose\u001b[0m\u001b[0;34m(\u001b[0m\u001b[0;34m)\u001b[0m\u001b[0;34m\u001b[0m\u001b[0m\n\u001b[1;32m    653\u001b[0m \u001b[0;34m\u001b[0m\u001b[0m\n\u001b[0;32m--> 654\u001b[0;31m         \u001b[0;32mreturn\u001b[0m \u001b[0mself\u001b[0m\u001b[0;34m.\u001b[0m\u001b[0mparent\u001b[0m\u001b[0;34m.\u001b[0m\u001b[0mopen\u001b[0m\u001b[0;34m(\u001b[0m\u001b[0mnew\u001b[0m\u001b[0;34m,\u001b[0m \u001b[0mtimeout\u001b[0m\u001b[0;34m=\u001b[0m\u001b[0mreq\u001b[0m\u001b[0;34m.\u001b[0m\u001b[0mtimeout\u001b[0m\u001b[0;34m)\u001b[0m\u001b[0;34m\u001b[0m\u001b[0m\n\u001b[0m\u001b[1;32m    655\u001b[0m \u001b[0;34m\u001b[0m\u001b[0m\n\u001b[1;32m    656\u001b[0m     \u001b[0mhttp_error_301\u001b[0m \u001b[0;34m=\u001b[0m \u001b[0mhttp_error_303\u001b[0m \u001b[0;34m=\u001b[0m \u001b[0mhttp_error_307\u001b[0m \u001b[0;34m=\u001b[0m \u001b[0mhttp_error_302\u001b[0m\u001b[0;34m\u001b[0m\u001b[0m\n",
      "\u001b[0;32m/Users/jaimemillan/miniconda2/lib/python2.7/urllib2.pyc\u001b[0m in \u001b[0;36mopen\u001b[0;34m(self, fullurl, data, timeout)\u001b[0m\n\u001b[1;32m    433\u001b[0m         \u001b[0;32mfor\u001b[0m \u001b[0mprocessor\u001b[0m \u001b[0;32min\u001b[0m \u001b[0mself\u001b[0m\u001b[0;34m.\u001b[0m\u001b[0mprocess_response\u001b[0m\u001b[0;34m.\u001b[0m\u001b[0mget\u001b[0m\u001b[0;34m(\u001b[0m\u001b[0mprotocol\u001b[0m\u001b[0;34m,\u001b[0m \u001b[0;34m[\u001b[0m\u001b[0;34m]\u001b[0m\u001b[0;34m)\u001b[0m\u001b[0;34m:\u001b[0m\u001b[0;34m\u001b[0m\u001b[0m\n\u001b[1;32m    434\u001b[0m             \u001b[0mmeth\u001b[0m \u001b[0;34m=\u001b[0m \u001b[0mgetattr\u001b[0m\u001b[0;34m(\u001b[0m\u001b[0mprocessor\u001b[0m\u001b[0;34m,\u001b[0m \u001b[0mmeth_name\u001b[0m\u001b[0;34m)\u001b[0m\u001b[0;34m\u001b[0m\u001b[0m\n\u001b[0;32m--> 435\u001b[0;31m             \u001b[0mresponse\u001b[0m \u001b[0;34m=\u001b[0m \u001b[0mmeth\u001b[0m\u001b[0;34m(\u001b[0m\u001b[0mreq\u001b[0m\u001b[0;34m,\u001b[0m \u001b[0mresponse\u001b[0m\u001b[0;34m)\u001b[0m\u001b[0;34m\u001b[0m\u001b[0m\n\u001b[0m\u001b[1;32m    436\u001b[0m \u001b[0;34m\u001b[0m\u001b[0m\n\u001b[1;32m    437\u001b[0m         \u001b[0;32mreturn\u001b[0m \u001b[0mresponse\u001b[0m\u001b[0;34m\u001b[0m\u001b[0m\n",
      "\u001b[0;32m/Users/jaimemillan/miniconda2/lib/python2.7/urllib2.pyc\u001b[0m in \u001b[0;36mhttp_response\u001b[0;34m(self, request, response)\u001b[0m\n\u001b[1;32m    546\u001b[0m         \u001b[0;32mif\u001b[0m \u001b[0;32mnot\u001b[0m \u001b[0;34m(\u001b[0m\u001b[0;36m200\u001b[0m \u001b[0;34m<=\u001b[0m \u001b[0mcode\u001b[0m \u001b[0;34m<\u001b[0m \u001b[0;36m300\u001b[0m\u001b[0;34m)\u001b[0m\u001b[0;34m:\u001b[0m\u001b[0;34m\u001b[0m\u001b[0m\n\u001b[1;32m    547\u001b[0m             response = self.parent.error(\n\u001b[0;32m--> 548\u001b[0;31m                 'http', request, response, code, msg, hdrs)\n\u001b[0m\u001b[1;32m    549\u001b[0m \u001b[0;34m\u001b[0m\u001b[0m\n\u001b[1;32m    550\u001b[0m         \u001b[0;32mreturn\u001b[0m \u001b[0mresponse\u001b[0m\u001b[0;34m\u001b[0m\u001b[0m\n",
      "\u001b[0;32m/Users/jaimemillan/miniconda2/lib/python2.7/urllib2.pyc\u001b[0m in \u001b[0;36merror\u001b[0;34m(self, proto, *args)\u001b[0m\n\u001b[1;32m    471\u001b[0m         \u001b[0;32mif\u001b[0m \u001b[0mhttp_err\u001b[0m\u001b[0;34m:\u001b[0m\u001b[0;34m\u001b[0m\u001b[0m\n\u001b[1;32m    472\u001b[0m             \u001b[0margs\u001b[0m \u001b[0;34m=\u001b[0m \u001b[0;34m(\u001b[0m\u001b[0mdict\u001b[0m\u001b[0;34m,\u001b[0m \u001b[0;34m'default'\u001b[0m\u001b[0;34m,\u001b[0m \u001b[0;34m'http_error_default'\u001b[0m\u001b[0;34m)\u001b[0m \u001b[0;34m+\u001b[0m \u001b[0morig_args\u001b[0m\u001b[0;34m\u001b[0m\u001b[0m\n\u001b[0;32m--> 473\u001b[0;31m             \u001b[0;32mreturn\u001b[0m \u001b[0mself\u001b[0m\u001b[0;34m.\u001b[0m\u001b[0m_call_chain\u001b[0m\u001b[0;34m(\u001b[0m\u001b[0;34m*\u001b[0m\u001b[0margs\u001b[0m\u001b[0;34m)\u001b[0m\u001b[0;34m\u001b[0m\u001b[0m\n\u001b[0m\u001b[1;32m    474\u001b[0m \u001b[0;34m\u001b[0m\u001b[0m\n\u001b[1;32m    475\u001b[0m \u001b[0;31m# XXX probably also want an abstract factory that knows when it makes\u001b[0m\u001b[0;34m\u001b[0m\u001b[0;34m\u001b[0m\u001b[0m\n",
      "\u001b[0;32m/Users/jaimemillan/miniconda2/lib/python2.7/urllib2.pyc\u001b[0m in \u001b[0;36m_call_chain\u001b[0;34m(self, chain, kind, meth_name, *args)\u001b[0m\n\u001b[1;32m    405\u001b[0m             \u001b[0mfunc\u001b[0m \u001b[0;34m=\u001b[0m \u001b[0mgetattr\u001b[0m\u001b[0;34m(\u001b[0m\u001b[0mhandler\u001b[0m\u001b[0;34m,\u001b[0m \u001b[0mmeth_name\u001b[0m\u001b[0;34m)\u001b[0m\u001b[0;34m\u001b[0m\u001b[0m\n\u001b[1;32m    406\u001b[0m \u001b[0;34m\u001b[0m\u001b[0m\n\u001b[0;32m--> 407\u001b[0;31m             \u001b[0mresult\u001b[0m \u001b[0;34m=\u001b[0m \u001b[0mfunc\u001b[0m\u001b[0;34m(\u001b[0m\u001b[0;34m*\u001b[0m\u001b[0margs\u001b[0m\u001b[0;34m)\u001b[0m\u001b[0;34m\u001b[0m\u001b[0m\n\u001b[0m\u001b[1;32m    408\u001b[0m             \u001b[0;32mif\u001b[0m \u001b[0mresult\u001b[0m \u001b[0;32mis\u001b[0m \u001b[0;32mnot\u001b[0m \u001b[0mNone\u001b[0m\u001b[0;34m:\u001b[0m\u001b[0;34m\u001b[0m\u001b[0m\n\u001b[1;32m    409\u001b[0m                 \u001b[0;32mreturn\u001b[0m \u001b[0mresult\u001b[0m\u001b[0;34m\u001b[0m\u001b[0m\n",
      "\u001b[0;32m/Users/jaimemillan/miniconda2/lib/python2.7/urllib2.pyc\u001b[0m in \u001b[0;36mhttp_error_default\u001b[0;34m(self, req, fp, code, msg, hdrs)\u001b[0m\n\u001b[1;32m    554\u001b[0m \u001b[0;32mclass\u001b[0m \u001b[0mHTTPDefaultErrorHandler\u001b[0m\u001b[0;34m(\u001b[0m\u001b[0mBaseHandler\u001b[0m\u001b[0;34m)\u001b[0m\u001b[0;34m:\u001b[0m\u001b[0;34m\u001b[0m\u001b[0m\n\u001b[1;32m    555\u001b[0m     \u001b[0;32mdef\u001b[0m \u001b[0mhttp_error_default\u001b[0m\u001b[0;34m(\u001b[0m\u001b[0mself\u001b[0m\u001b[0;34m,\u001b[0m \u001b[0mreq\u001b[0m\u001b[0;34m,\u001b[0m \u001b[0mfp\u001b[0m\u001b[0;34m,\u001b[0m \u001b[0mcode\u001b[0m\u001b[0;34m,\u001b[0m \u001b[0mmsg\u001b[0m\u001b[0;34m,\u001b[0m \u001b[0mhdrs\u001b[0m\u001b[0;34m)\u001b[0m\u001b[0;34m:\u001b[0m\u001b[0;34m\u001b[0m\u001b[0m\n\u001b[0;32m--> 556\u001b[0;31m         \u001b[0;32mraise\u001b[0m \u001b[0mHTTPError\u001b[0m\u001b[0;34m(\u001b[0m\u001b[0mreq\u001b[0m\u001b[0;34m.\u001b[0m\u001b[0mget_full_url\u001b[0m\u001b[0;34m(\u001b[0m\u001b[0;34m)\u001b[0m\u001b[0;34m,\u001b[0m \u001b[0mcode\u001b[0m\u001b[0;34m,\u001b[0m \u001b[0mmsg\u001b[0m\u001b[0;34m,\u001b[0m \u001b[0mhdrs\u001b[0m\u001b[0;34m,\u001b[0m \u001b[0mfp\u001b[0m\u001b[0;34m)\u001b[0m\u001b[0;34m\u001b[0m\u001b[0m\n\u001b[0m\u001b[1;32m    557\u001b[0m \u001b[0;34m\u001b[0m\u001b[0m\n\u001b[1;32m    558\u001b[0m \u001b[0;32mclass\u001b[0m \u001b[0mHTTPRedirectHandler\u001b[0m\u001b[0;34m(\u001b[0m\u001b[0mBaseHandler\u001b[0m\u001b[0;34m)\u001b[0m\u001b[0;34m:\u001b[0m\u001b[0;34m\u001b[0m\u001b[0m\n",
      "\u001b[0;31mHTTPError\u001b[0m: HTTP Error 404: Not Found"
     ]
    }
   ],
   "source": []
  },
  {
   "cell_type": "code",
   "execution_count": 88,
   "metadata": {},
   "outputs": [],
   "source": [
    "import re\n",
    "def split_hashtag(hashtagestring):\n",
    "    fo = re.compile(r'#[A-Z]{2,}(?![a-z])|[A-Z][a-z]+')\n",
    "    fi = fo.findall(hashtagestring)\n",
    "    result = ''\n",
    "    for var in fi:\n",
    "        result += var + ' '\n",
    "       # print (result)\n",
    "    result = result.split()\n",
    "    return result;"
   ]
  },
  {
   "cell_type": "code",
   "execution_count": 30,
   "metadata": {},
   "outputs": [
    {
     "name": "stdout",
     "output_type": "stream",
     "text": [
      "Stephen \n",
      "Stephen At \n",
      "Stephen At Home \n"
     ]
    },
    {
     "data": {
      "text/plain": [
       "[u'Stephen', u'At', u'Home']"
      ]
     },
     "execution_count": 30,
     "metadata": {},
     "output_type": "execute_result"
    }
   ],
   "source": [
    "split_hashtag(a[4])"
   ]
  },
  {
   "cell_type": "markdown",
   "metadata": {},
   "source": [
    "## PodFather TwitBot\n",
    "\n",
    "### Main Body"
   ]
  },
  {
   "cell_type": "code",
   "execution_count": 129,
   "metadata": {},
   "outputs": [
    {
     "name": "stdout",
     "output_type": "stream",
     "text": [
      "8\n",
      "loop: 0\n",
      "@PFather101 hey you you\n",
      "jandresmillan\n",
      "going to sleep 1\n"
     ]
    },
    {
     "ename": "KeyboardInterrupt",
     "evalue": "",
     "output_type": "error",
     "traceback": [
      "\u001b[0;31m---------------------------------------------------------------------------\u001b[0m",
      "\u001b[0;31mKeyboardInterrupt\u001b[0m                         Traceback (most recent call last)",
      "\u001b[0;32m<ipython-input-129-c9ec96ba96d8>\u001b[0m in \u001b[0;36m<module>\u001b[0;34m()\u001b[0m\n\u001b[1;32m     72\u001b[0m                     \u001b[0;32mexcept\u001b[0m \u001b[0mtweepy\u001b[0m\u001b[0;34m.\u001b[0m\u001b[0merror\u001b[0m\u001b[0;34m.\u001b[0m\u001b[0mTweepError\u001b[0m \u001b[0;32mas\u001b[0m \u001b[0me\u001b[0m\u001b[0;34m:\u001b[0m\u001b[0;34m\u001b[0m\u001b[0m\n\u001b[1;32m     73\u001b[0m                         \u001b[0;32mprint\u001b[0m\u001b[0;34m(\u001b[0m\u001b[0;34m\"going to sleep 1\"\u001b[0m\u001b[0;34m)\u001b[0m\u001b[0;34m\u001b[0m\u001b[0m\n\u001b[0;32m---> 74\u001b[0;31m                         \u001b[0mtime\u001b[0m\u001b[0;34m.\u001b[0m\u001b[0msleep\u001b[0m\u001b[0;34m(\u001b[0m\u001b[0;36m180\u001b[0m\u001b[0;34m)\u001b[0m\u001b[0;34m\u001b[0m\u001b[0m\n\u001b[0m\u001b[1;32m     75\u001b[0m                         \u001b[0ms\u001b[0m \u001b[0;34m=\u001b[0m \u001b[0mapi\u001b[0m\u001b[0;34m.\u001b[0m\u001b[0mupdate_status\u001b[0m\u001b[0;34m(\u001b[0m\u001b[0mm\u001b[0m \u001b[0;34m)\u001b[0m\u001b[0;34m\u001b[0m\u001b[0m\n\u001b[1;32m     76\u001b[0m \u001b[0;34m\u001b[0m\u001b[0m\n",
      "\u001b[0;31mKeyboardInterrupt\u001b[0m: "
     ]
    }
   ],
   "source": [
    "#Get history of tweets \n",
    "#public_tweets = api.home_timeline()\n",
    "try:\n",
    "    public_tweets = api.mentions_timeline()\n",
    "except tweepy.error.TweepError as e:\n",
    "    time.sleep(180)\n",
    "    public_tweets = api.mentions_timeline()\n",
    "    \n",
    "print(len(public_tweets))\n",
    "#look at first tweet only for now\n",
    "idx= 0 ;\n",
    "\n",
    "#loop through twwets in timeline\n",
    "for i in range(1):\n",
    "    print(\"loop: \" + str(i))\n",
    "    for idx,tweet in enumerate(public_tweets):\n",
    "       \n",
    "        #print(\"found tweet :\" + str(idx))\n",
    "        print(tweet.text)\n",
    "        #break on other tweets\n",
    "        if idx >0:\n",
    "            break;\n",
    "\n",
    "        #split tweet to get username\n",
    "        try:\n",
    "            buffer_str =str(tweet.text).split()\n",
    "        except tweepy.error.TweepError as e:\n",
    "            time.sleep(180)\n",
    "            buffer_str =str(tweet.text).split()\n",
    "\n",
    "        #get into first tweet\n",
    "        if idx == 0:\n",
    "                #m = buffer_str[0] + \" podcast\"\n",
    "                #print(m)\n",
    "                #print(tweet.id)\n",
    "                #print('tweet content : ' + str(tweet.text))\n",
    "\n",
    "                \n",
    "                #user info\n",
    "                sn = str()\n",
    "                try:\n",
    "                    #user = api.get_user(tweet.id)\n",
    "                    #user screen name\n",
    "                    sn = tweet.user.screen_name\n",
    "                except tweepy.error.TweepError as e:\n",
    "                    time.sleep(180)\n",
    "                    sn = tweet.user.screen_name\n",
    "                    #user screen name\n",
    "               \n",
    "                \n",
    "                \n",
    "                print(sn)\n",
    "                #print(\"sending recommendation to @\" + str(sn))\n",
    "\n",
    "                #get all twitter history from user\n",
    "                #all_tweets = get_user_tweets(sn)\n",
    "                #print(\"getting obama tweets\")\n",
    "             #   try:\n",
    "              #      all_tweets = get_user_tweets('BarackObama')\n",
    "               # except tweepy.error.TweepError as e:\n",
    "                #    time.sleep(180)\n",
    "                 #   all_tweets = get_user_tweets('BarackObama')\n",
    "                    \n",
    "                m = \"@%s check this out  %s !\" % (sn,podcast_url)\n",
    "                #m = u\"haha \" + u'https://itunes.apple.com/us/podcast/ted-talks-daily/id160904630?mt=2&uo=4'\n",
    "                #print(\"done getting obama tweets\")\n",
    "                #ok now notify user , case 1  : user has no much history\n",
    "\n",
    "                if sn != \"PFather101\" and len(all_tweets) < 10:\n",
    "                    try:\n",
    "                        s = api.update_status(m)\n",
    "                    except tweepy.error.TweepError as e:\n",
    "                        print(\"going to sleep 1\")\n",
    "                        time.sleep(60*15)\n",
    "                        s = api.update_status(m )\n",
    "                    \n",
    "                    print(\"reply sent going to sleep\")\n",
    "                    #time.sleep(1*60)\n",
    "                    print(\"awake\")\n",
    "\n",
    "                #case 2 : user has history\n",
    "                if sn != \"PFather101\" and len(all_tweets) > 10:\n",
    "                    try:\n",
    "                       # s = api.update_status(m, tweet.id)\n",
    "                         s = api.update_status(m,tweet.id)\n",
    "                    except tweepy.error.TweepError as e:\n",
    "                        print(\"going to sleep 2\")\n",
    "                        time.sleep(60*15)\n",
    "                        #s = api.update_status(m, tweet.id) \n",
    "                        s = api.update_status(m, tweet.id)\n",
    "                        \n",
    "                    print(\"reply sent to @\" + str(sn))\n",
    "                    print(\"reply sent going to sleep\")\n",
    "                    #time.sleep(1*60)\n",
    "                    print(\"awake\")\n",
    "        idx= idx+1\n",
    "            \n"
   ]
  },
  {
   "cell_type": "code",
   "execution_count": 4,
   "metadata": {},
   "outputs": [],
   "source": [
    "public_tweets = api.home_timeline()\n"
   ]
  },
  {
   "cell_type": "code",
   "execution_count": 5,
   "metadata": {},
   "outputs": [],
   "source": [
    "public_tweets = api.home_timeline()\n",
    "idx= 0 ;\n",
    "for tweet in public_tweets:\n",
    "    print(str(tweet.text))\n",
    "    buffer_str =str(tweet.text).split()\n",
    "    if idx == 0:\n",
    "            m = buffer_str[0] + \" podcast\"\n",
    "            print(tweet.id)\n",
    "            user = api.get_user(buffer_str[0])\n",
    "            sn = user.screen_name\n",
    "            m = \"@%s check this out %s !\" % (sn,podcast_url)\n",
    "            s = api.update_status(m, tweet.id)\n",
    "    idx= idx+1"
   ]
  },
  {
   "cell_type": "code",
   "execution_count": 7,
   "metadata": {},
   "outputs": [
    {
     "data": {
      "text/plain": [
       "[]"
      ]
     },
     "execution_count": 7,
     "metadata": {},
     "output_type": "execute_result"
    }
   ],
   "source": [
    "public_tweets"
   ]
  },
  {
   "cell_type": "code",
   "execution_count": null,
   "metadata": {},
   "outputs": [],
   "source": []
  }
 ],
 "metadata": {
  "kernelspec": {
   "display_name": "Python 2",
   "language": "python",
   "name": "python2"
  },
  "language_info": {
   "codemirror_mode": {
    "name": "ipython",
    "version": 2
   },
   "file_extension": ".py",
   "mimetype": "text/x-python",
   "name": "python",
   "nbconvert_exporter": "python",
   "pygments_lexer": "ipython2",
   "version": "2.7.15"
  }
 },
 "nbformat": 4,
 "nbformat_minor": 2
}
